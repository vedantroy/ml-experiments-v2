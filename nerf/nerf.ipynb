{
 "cells": [
  {
   "cell_type": "code",
   "execution_count": null,
   "metadata": {},
   "outputs": [],
   "source": [
    "!pip install torch matplotlib numpy"
   ]
  },
  {
   "cell_type": "code",
   "execution_count": null,
   "metadata": {},
   "outputs": [],
   "source": [
    "import os\n",
    "\n",
    "if not os.path.exists('tiny_nerf_data.npz'):\n",
    "    !wget http://cseweb.ucsd.edu/~viscomp/projects/LF/papers/ECCV20/nerf/tiny_nerf_data.npz"
   ]
  },
  {
   "cell_type": "code",
   "execution_count": null,
   "metadata": {},
   "outputs": [],
   "source": [
    "import numpy as np\n",
    "\n",
    "data = np.load('tiny_nerf_data.npz')\n",
    "# Each image is a different view of the same scene\n",
    "imgs = data['images']\n",
    "# Each pose is a 4x4 transformation matrix\n",
    "poses = data['poses']\n",
    "# Focal length of the camera\n",
    "# Seems to mean the distance from the camera to the image plane\n",
    "# TODO: Given this is a constant, why do we care?\n",
    "focal = data['focal']\n",
    "\n",
    "N_imgs, H, W = imgs.shape[:3]\n",
    "assert N_imgs == poses.shape[0]\n",
    "assert poses.shape[-1] == poses.shape[-2]\n",
    "assert focal.shape == tuple() \n",
    "\n",
    "import matplotlib.pyplot as plt\n",
    "\n",
    "# display the first, middle, last img\n",
    "fig, ax = plt.subplots(1, 3, figsize=(15, 5))\n",
    "for i in range(3):\n",
    "    ax[i].imshow(imgs[i * (N_imgs - 1) // 2])\n",
    "    ax[i].axis('off')\n",
    "fig.show()\n",
    "\n",
    "# Transformation matrixes have the form:\n",
    "# [ R  t ]\n",
    "# [ 0  1 ]\n",
    "# where R is a 3x3 rotation matrix and t is a 3x1 translation vector\n",
    "# the bottom row should be 0, 0, 0, 1 (added for homogenous coordinates)\n",
    "print(poses[0])"
   ]
  },
  {
   "cell_type": "code",
   "execution_count": null,
   "metadata": {},
   "outputs": [],
   "source": [
    "testimg, testpos = imgs[101], poses[101]\n",
    "imgs, poses = imgs[:100], poses[:100]\n",
    "\n",
    "plt.imshow(testimg)\n",
    "plt.show()"
   ]
  },
  {
   "cell_type": "code",
   "execution_count": null,
   "metadata": {},
   "outputs": [],
   "source": []
  },
  {
   "cell_type": "code",
   "execution_count": null,
   "metadata": {},
   "outputs": [],
   "source": []
  }
 ],
 "metadata": {
  "kernelspec": {
   "display_name": "Python 3",
   "language": "python",
   "name": "python3"
  },
  "language_info": {
   "codemirror_mode": {
    "name": "ipython",
    "version": 3
   },
   "file_extension": ".py",
   "mimetype": "text/x-python",
   "name": "python",
   "nbconvert_exporter": "python",
   "pygments_lexer": "ipython3",
   "version": "3.6.4"
  },
  "orig_nbformat": 4,
  "vscode": {
   "interpreter": {
    "hash": "0773616bbb021823e0412a75205e39f7c83fababc2d74f05bae4d9800b263497"
   }
  }
 },
 "nbformat": 4,
 "nbformat_minor": 2
}
